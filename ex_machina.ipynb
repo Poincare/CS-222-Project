{
 "cells": [
  {
   "cell_type": "code",
   "execution_count": 12,
   "metadata": {
    "collapsed": false
   },
   "outputs": [],
   "source": [
    "import pandas as pd\n",
    "import numpy as np\n",
    "from sklearn.ensemble import ExtraTreesClassifier\n",
    "from sklearn.ensemble import AdaBoostClassifier\n",
    "from sklearn.metrics import classification_report\n",
    "from sklearn import cross_validation\n",
    "from sklearn import metrics"
   ]
  },
  {
   "cell_type": "code",
   "execution_count": 23,
   "metadata": {
    "collapsed": true
   },
   "outputs": [],
   "source": [
    "df = pd.read_csv(\"sequitur/seq_features3.csv\")\n",
    "\n",
    "y = df['spam']\n",
    "X = df.drop(['spam'],axis=1)"
   ]
  },
  {
   "cell_type": "code",
   "execution_count": 4,
   "metadata": {
    "collapsed": false
   },
   "outputs": [
    {
     "data": {
      "text/html": [
       "<div>\n",
       "<table border=\"1\" class=\"dataframe\">\n",
       "  <thead>\n",
       "    <tr style=\"text-align: right;\">\n",
       "      <th></th>\n",
       "      <th>num_rules</th>\n",
       "      <th>average_rule_length</th>\n",
       "      <th>average_rule_usage</th>\n",
       "      <th>stddev_rule_length</th>\n",
       "      <th>stddev_rule_usage</th>\n",
       "      <th>proportion_terminal_characters</th>\n",
       "      <th>spam</th>\n",
       "    </tr>\n",
       "  </thead>\n",
       "  <tbody>\n",
       "    <tr>\n",
       "      <th>0</th>\n",
       "      <td>131</td>\n",
       "      <td>5.30534</td>\n",
       "      <td>3.89313</td>\n",
       "      <td>35.4131</td>\n",
       "      <td>1.88911</td>\n",
       "      <td>0.306499</td>\n",
       "      <td>1</td>\n",
       "    </tr>\n",
       "    <tr>\n",
       "      <th>1</th>\n",
       "      <td>53</td>\n",
       "      <td>6.62264</td>\n",
       "      <td>3.56604</td>\n",
       "      <td>30.0435</td>\n",
       "      <td>1.55417</td>\n",
       "      <td>0.463362</td>\n",
       "      <td>1</td>\n",
       "    </tr>\n",
       "    <tr>\n",
       "      <th>2</th>\n",
       "      <td>22</td>\n",
       "      <td>7.00000</td>\n",
       "      <td>3.27273</td>\n",
       "      <td>22.0454</td>\n",
       "      <td>1.28565</td>\n",
       "      <td>0.597701</td>\n",
       "      <td>1</td>\n",
       "    </tr>\n",
       "    <tr>\n",
       "      <th>3</th>\n",
       "      <td>329</td>\n",
       "      <td>5.23100</td>\n",
       "      <td>4.66869</td>\n",
       "      <td>55.4813</td>\n",
       "      <td>3.02366</td>\n",
       "      <td>0.159826</td>\n",
       "      <td>1</td>\n",
       "    </tr>\n",
       "    <tr>\n",
       "      <th>4</th>\n",
       "      <td>370</td>\n",
       "      <td>4.87568</td>\n",
       "      <td>4.33243</td>\n",
       "      <td>51.2375</td>\n",
       "      <td>2.68837</td>\n",
       "      <td>0.139031</td>\n",
       "      <td>1</td>\n",
       "    </tr>\n",
       "  </tbody>\n",
       "</table>\n",
       "</div>"
      ],
      "text/plain": [
       "   num_rules  average_rule_length  average_rule_usage  stddev_rule_length  \\\n",
       "0        131              5.30534             3.89313             35.4131   \n",
       "1         53              6.62264             3.56604             30.0435   \n",
       "2         22              7.00000             3.27273             22.0454   \n",
       "3        329              5.23100             4.66869             55.4813   \n",
       "4        370              4.87568             4.33243             51.2375   \n",
       "\n",
       "   stddev_rule_usage  proportion_terminal_characters  spam  \n",
       "0            1.88911                        0.306499     1  \n",
       "1            1.55417                        0.463362     1  \n",
       "2            1.28565                        0.597701     1  \n",
       "3            3.02366                        0.159826     1  \n",
       "4            2.68837                        0.139031     1  "
      ]
     },
     "execution_count": 4,
     "metadata": {},
     "output_type": "execute_result"
    }
   ],
   "source": [
    "df.head()"
   ]
  },
  {
   "cell_type": "code",
   "execution_count": 3,
   "metadata": {
    "collapsed": false
   },
   "outputs": [
    {
     "name": "stdout",
     "output_type": "stream",
     "text": [
      "Accuracy: 0.822303 +/- 0.021358\n"
     ]
    }
   ],
   "source": [
    "clf = AdaBoostClassifier(ExtraTreesClassifier())\n",
    "scores = cross_validation.cross_val_score(clf, X, y, cv=7)\n",
    "print \"Accuracy: %f +/- %f\" % (np.mean(scores), np.std(scores))"
   ]
  },
  {
   "cell_type": "code",
   "execution_count": 7,
   "metadata": {
    "collapsed": false
   },
   "outputs": [
    {
     "name": "stdout",
     "output_type": "stream",
     "text": [
      "Accuracy: 0.813790 +/- 0.025218\n"
     ]
    }
   ],
   "source": [
    "et = ExtraTreesClassifier()\n",
    "scores = cross_validation.cross_val_score(et, X, y, cv=7)\n",
    "print \"Accuracy: %f +/- %f\" % (np.mean(scores), np.std(scores))"
   ]
  },
  {
   "cell_type": "code",
   "execution_count": 4,
   "metadata": {
    "collapsed": false
   },
   "outputs": [
    {
     "name": "stdout",
     "output_type": "stream",
     "text": [
      "Accuracy: 0.806635 +/- 0.026396\n"
     ]
    }
   ],
   "source": [
    "from sklearn.ensemble import RandomForestClassifier\n",
    "rf = AdaBoostClassifier(RandomForestClassifier())\n",
    "scores = cross_validation.cross_val_score(rf, X, y, cv=7)\n",
    "print \"Accuracy: %f +/- %f\" % (np.mean(scores), np.std(scores))"
   ]
  },
  {
   "cell_type": "code",
   "execution_count": 8,
   "metadata": {
    "collapsed": false
   },
   "outputs": [
    {
     "name": "stdout",
     "output_type": "stream",
     "text": [
      "Accuracy: 0.813209 +/- 0.025823\n"
     ]
    }
   ],
   "source": [
    "rf2 = RandomForestClassifier()\n",
    "scores = cross_validation.cross_val_score(rf2, X, y, cv=7)\n",
    "print \"Accuracy: %f +/- %f\" % (np.mean(scores), np.std(scores))"
   ]
  },
  {
   "cell_type": "code",
   "execution_count": 5,
   "metadata": {
    "collapsed": false
   },
   "outputs": [
    {
     "name": "stdout",
     "output_type": "stream",
     "text": [
      "Accuracy: 0.771821 +/- 0.027939\n"
     ]
    }
   ],
   "source": [
    "from sklearn.linear_model import LogisticRegression\n",
    "lr = AdaBoostClassifier(LogisticRegression())\n",
    "scores = cross_validation.cross_val_score(lr, X, y, cv=7)\n",
    "print \"Accuracy: %f +/- %f\" % (np.mean(scores), np.std(scores))"
   ]
  },
  {
   "cell_type": "code",
   "execution_count": 6,
   "metadata": {
    "collapsed": false
   },
   "outputs": [
    {
     "name": "stdout",
     "output_type": "stream",
     "text": [
      "Accuracy: 0.777639 +/- 0.011861\n"
     ]
    }
   ],
   "source": [
    "from sklearn.neighbors import KNeighborsClassifier\n",
    "kn = KNeighborsClassifier()\n",
    "scores = cross_validation.cross_val_score(kn, X, y, cv=7)\n",
    "print \"Accuracy: %f +/- %f\" % (np.mean(scores), np.std(scores))"
   ]
  },
  {
   "cell_type": "code",
   "execution_count": 3,
   "metadata": {
    "collapsed": false
   },
   "outputs": [
    {
     "name": "stdout",
     "output_type": "stream",
     "text": [
      "0.999226604795\n",
      "[ 0.13267246  0.15774708  0.14067399  0.21493218  0.14084621  0.21312807]\n"
     ]
    }
   ],
   "source": [
    "#FEATURE IMPORTANCES\n",
    "et = ExtraTreesClassifier()\n",
    "et.fit(X, y)\n",
    "print et.score(X, y)\n",
    "print et.feature_importances_"
   ]
  },
  {
   "cell_type": "code",
   "execution_count": 28,
   "metadata": {
    "collapsed": false
   },
   "outputs": [
    {
     "name": "stdout",
     "output_type": "stream",
     "text": [
      "[[-0.01561109  0.03077874 -3.31627578  0.21586861  2.19628662  1.17469831\n",
      "   4.47263145 -1.47747413 -1.95981627]]\n",
      "                          num_rules  average_rule_len  average_rule_usage  \\\n",
      "num_rules                  1.000000         -0.370391            0.785709   \n",
      "average_rule_len          -0.370391          1.000000           -0.670654   \n",
      "average_rule_usage         0.785709         -0.670654            1.000000   \n",
      "std_rule_len               0.873806         -0.370160            0.874512   \n",
      "std_rule_usage             0.928736         -0.355663            0.855360   \n",
      "prop_term_char            -0.717480          0.737089           -0.865274   \n",
      "prop_bigrams               0.344921         -0.619460            0.709462   \n",
      "prop_repeat_rule_bigrams   0.006222         -0.169230            0.065067   \n",
      "prop_repeat_bigrams       -0.047060         -0.133906            0.010321   \n",
      "\n",
      "                          std_rule_len  std_rule_usage  prop_term_char  \\\n",
      "num_rules                     0.873806        0.928736       -0.717480   \n",
      "average_rule_len             -0.370160       -0.355663        0.737089   \n",
      "average_rule_usage            0.874512        0.855360       -0.865274   \n",
      "std_rule_len                  1.000000        0.915192       -0.630201   \n",
      "std_rule_usage                0.915192        1.000000       -0.715253   \n",
      "prop_term_char               -0.630201       -0.715253        1.000000   \n",
      "prop_bigrams                  0.571626        0.414227       -0.510661   \n",
      "prop_repeat_rule_bigrams     -0.097752       -0.000036       -0.272105   \n",
      "prop_repeat_bigrams          -0.114126       -0.057393       -0.166341   \n",
      "\n",
      "                          prop_bigrams  prop_repeat_rule_bigrams  \\\n",
      "num_rules                     0.344921                  0.006222   \n",
      "average_rule_len             -0.619460                 -0.169230   \n",
      "average_rule_usage            0.709462                  0.065067   \n",
      "std_rule_len                  0.571626                 -0.097752   \n",
      "std_rule_usage                0.414227                 -0.000036   \n",
      "prop_term_char               -0.510661                 -0.272105   \n",
      "prop_bigrams                  1.000000                  0.025929   \n",
      "prop_repeat_rule_bigrams      0.025929                  1.000000   \n",
      "prop_repeat_bigrams           0.000515                  0.722128   \n",
      "\n",
      "                          prop_repeat_bigrams  \n",
      "num_rules                           -0.047060  \n",
      "average_rule_len                    -0.133906  \n",
      "average_rule_usage                   0.010321  \n",
      "std_rule_len                        -0.114126  \n",
      "std_rule_usage                      -0.057393  \n",
      "prop_term_char                      -0.166341  \n",
      "prop_bigrams                         0.000515  \n",
      "prop_repeat_rule_bigrams             0.722128  \n",
      "prop_repeat_bigrams                  1.000000  \n"
     ]
    }
   ],
   "source": [
    "#LOG REG COEFFICIENTS\n",
    "lr = LogisticRegression()\n",
    "lr.fit(X,y)\n",
    "print lr.coef_\n",
    "print X.corr()"
   ]
  },
  {
   "cell_type": "code",
   "execution_count": 24,
   "metadata": {
    "collapsed": false
   },
   "outputs": [
    {
     "name": "stdout",
     "output_type": "stream",
     "text": [
      "             precision    recall  f1-score   support\n",
      "\n",
      "          0       0.85      0.92      0.89       734\n",
      "          1       0.76      0.61      0.68       300\n",
      "\n",
      "avg / total       0.83      0.83      0.83      1034\n",
      "\n"
     ]
    }
   ],
   "source": [
    "#CLASSIFICATION REPORT\n",
    "y_train = y[0::5].append(y[1::5]).append(y[2::5]).append(y[3::5])\n",
    "y_test = y[4::5]\n",
    "X_train = X[0::5].append(X[1::5]).append(X[2::5]).append(X[3::5])\n",
    "X_test = X[4::5]\n",
    "et.fit(X_train,y_train)\n",
    "print classification_report(y_test, et.predict(X_test))"
   ]
  },
  {
   "cell_type": "code",
   "execution_count": 19,
   "metadata": {
    "collapsed": false
   },
   "outputs": [
    {
     "name": "stdout",
     "output_type": "stream",
     "text": [
      "1034\n",
      "1034\n"
     ]
    }
   ],
   "source": [
    "et.fit(X_train,y_train)\n",
    "ours = et.predict(X_test)\n",
    "\n",
    "import antispam\n",
    "import os\n",
    "\n",
    "directory = 'enron1/spam/'\n",
    "count = 0\n",
    "bm = []\n",
    "for filename in os.listdir(directory):\n",
    "    if count % 5 == 4:\n",
    "        with open(directory + filename, 'r') as content_file:\n",
    "            content = content_file.read()\n",
    "            bm.append(antispam.is_spam(content))\n",
    "    count += 1\n",
    "\n",
    "directory = 'enron1/ham/'\n",
    "for filename in os.listdir(directory):\n",
    "    if count % 5 == 4:\n",
    "        with open(directory + filename, 'r') as content_file:\n",
    "            content = content_file.read()\n",
    "            bm.append(antispam.is_spam(content))\n",
    "    count += 1\n",
    "    \n",
    "print len(ours)\n",
    "print len(bm)"
   ]
  },
  {
   "cell_type": "code",
   "execution_count": 25,
   "metadata": {
    "collapsed": false
   },
   "outputs": [
    {
     "name": "stdout",
     "output_type": "stream",
     "text": [
      "Automatically created module for IPython interactive environment\n"
     ]
    },
    {
     "data": {
      "image/png": "[encoded data removed]",
      "text/plain": [
       "<matplotlib.figure.Figure at 0x7f0d8791b7d0>"
      ]
     },
     "metadata": {},
     "output_type": "display_data"
    }
   ],
   "source": [
    "print(__doc__)\n",
    "\n",
    "import matplotlib.pyplot as plt\n",
    "\n",
    "from sklearn.learning_curve import learning_curve\n",
    "\n",
    "\n",
    "def plot_learning_curve(estimator, title, X, y, ylim=None, cv=None,\n",
    "                        n_jobs=1, train_sizes=np.linspace(.1, 1.0, 5)):\n",
    "    \"\"\"\n",
    "    Generate a simple plot of the test and training learning curve.\n",
    "\n",
    "    Parameters\n",
    "    ----------\n",
    "    estimator : object type that implements the \"fit\" and \"predict\" methods\n",
    "        An object of that type which is cloned for each validation.\n",
    "\n",
    "    title : string\n",
    "        Title for the chart.\n",
    "\n",
    "    X : array-like, shape (n_samples, n_features)\n",
    "        Training vector, where n_samples is the number of samples and\n",
    "        n_features is the number of features.\n",
    "\n",
    "    y : array-like, shape (n_samples) or (n_samples, n_features), optional\n",
    "        Target relative to X for classification or regression;\n",
    "        None for unsupervised learning.\n",
    "\n",
    "    ylim : tuple, shape (ymin, ymax), optional\n",
    "        Defines minimum and maximum yvalues plotted.\n",
    "\n",
    "    cv : int, cross-validation generator or an iterable, optional\n",
    "        Determines the cross-validation splitting strategy.\n",
    "        Possible inputs for cv are:\n",
    "          - None, to use the default 3-fold cross-validation,\n",
    "          - integer, to specify the number of folds.\n",
    "          - An object to be used as a cross-validation generator.\n",
    "          - An iterable yielding train/test splits.\n",
    "\n",
    "        For integer/None inputs, if ``y`` is binary or multiclass,\n",
    "        :class:`StratifiedKFold` used. If the estimator is not a classifier\n",
    "        or if ``y`` is neither binary nor multiclass, :class:`KFold` is used.\n",
    "\n",
    "        Refer :ref:`User Guide <cross_validation>` for the various\n",
    "        cross-validators that can be used here.\n",
    "\n",
    "    n_jobs : integer, optional\n",
    "        Number of jobs to run in parallel (default 1).\n",
    "    \"\"\"\n",
    "    plt.figure()\n",
    "    plt.title(title)\n",
    "    if ylim is not None:\n",
    "        plt.ylim(*ylim)\n",
    "    plt.xlabel(\"Training examples\")\n",
    "    plt.ylabel(\"Score\")\n",
    "    train_sizes, train_scores, test_scores = learning_curve(\n",
    "        estimator, X, y, cv=cv, n_jobs=n_jobs, train_sizes=train_sizes)\n",
    "    train_scores_mean = np.mean(train_scores, axis=1)\n",
    "    train_scores_std = np.std(train_scores, axis=1)\n",
    "    test_scores_mean = np.mean(test_scores, axis=1)\n",
    "    test_scores_std = np.std(test_scores, axis=1)\n",
    "    plt.grid()\n",
    "\n",
    "    plt.fill_between(train_sizes, train_scores_mean - train_scores_std,\n",
    "                     train_scores_mean + train_scores_std, alpha=0.1,\n",
    "                     color=\"r\")\n",
    "    plt.fill_between(train_sizes, test_scores_mean - test_scores_std,\n",
    "                     test_scores_mean + test_scores_std, alpha=0.1, color=\"g\")\n",
    "    plt.plot(train_sizes, train_scores_mean, 'o-', color=\"r\",\n",
    "             label=\"Training score\")\n",
    "    plt.plot(train_sizes, test_scores_mean, 'o-', color=\"g\",\n",
    "             label=\"Cross-validation score\")\n",
    "\n",
    "    plt.legend(loc=\"best\")\n",
    "    return plt\n",
    "\n",
    "\n",
    "title = \"Learning Curves (Extra Trees)\"\n",
    "# Cross validation with 100 iterations to get smoother mean test and train\n",
    "# score curves, each time with 20% data randomly selected as a validation set.\n",
    "cv = 10\n",
    "\n",
    "estimator = ExtraTreesClassifier()\n",
    "plot_learning_curve(estimator, title, X_train, y_train, ylim=(0.7, 1.01), cv=cv, n_jobs=4)\n",
    "axes = plt.gca()\n",
    "axes.set_ylim([0.4,1.05])\n",
    "\n",
    "plt.show()"
   ]
  },
  {
   "cell_type": "code",
   "execution_count": 14,
   "metadata": {
    "collapsed": false
   },
   "outputs": [
    {
     "data": {
      "text/plain": [
       "(5172, 4)"
      ]
     },
     "execution_count": 14,
     "metadata": {},
     "output_type": "execute_result"
    }
   ],
   "source": [
    "X_train.shape"
   ]
  },
  {
   "cell_type": "code",
   "execution_count": null,
   "metadata": {
    "collapsed": true
   },
   "outputs": [],
   "source": []
  }
 ],
 "metadata": {
  "anaconda-cloud": {},
  "kernelspec": {
   "display_name": "Python 2",
   "language": "python",
   "name": "python2"
  },
  "language_info": {
   "codemirror_mode": {
    "name": "ipython",
    "version": 2
   },
   "file_extension": ".py",
   "mimetype": "text/x-python",
   "name": "python",
   "nbconvert_exporter": "python",
   "pygments_lexer": "ipython2",
   "version": "2.7.12"
  }
 },
 "nbformat": 4,
 "nbformat_minor": 1
}
