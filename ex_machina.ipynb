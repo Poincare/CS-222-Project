{
 "cells": [
  {
   "cell_type": "code",
   "execution_count": null,
   "metadata": {
    "collapsed": true
   },
   "outputs": [],
   "source": [
    "import pandas as pd\n",
    "import numpy as np\n",
    "from sklearn.ensemble import ExtraTreesClassifier\n",
    "from sklearn.ensemble import AdaBoostClassifier\n",
    "from sklearn.metrics import classification_report\n",
    "from sklearn import cross_validation\n",
    "from sklearn import metrics\n",
    "import pickle"
   ]
  },
  {
   "cell_type": "code",
   "execution_count": null,
   "metadata": {
    "collapsed": true
   },
   "outputs": [],
   "source": [
    "df = pd.read_csv(\"train_potus_by_county.csv\")\n",
    "\n",
    "df['Winner'] = (df['Winner'] == 'Barack Obama')\n",
    "y_train = df['Winner']\n",
    "X_train = df.drop(['Winner'],axis=1)\n",
    "\n",
    "\n",
    "clf = AdaBoostClassifier(ExtraTreesClassifier())\n",
    "scores = cross_validation.cross_val_score(clf, X_train, y_train, cv=7)\n",
    "f = open('performance.txt', 'w')\n",
    "f.write('- Expected Performance -\\n')\n",
    "f.write('Accuracy: {0} +/- {1}\\n'.format(np.mean(scores), np.std(scores)))\n",
    "\n",
    "clf.fit(X_train[:1000], y_train[:1000])\n",
    "\n",
    "target_names = ['Mitt Romney', 'Barack Obama']\n",
    "f.write(classification_report(y_train[1000:], clf.predict(X_train[1000:]), target_names=target_names))\n",
    "f.close()\n",
    "\n",
    "clf.fit(X_train, y_train)\n",
    "\n",
    "filename = 'model.sav'\n",
    "pickle.dump(clf, open(filename, 'wb'))"
   ]
  }
 ],
 "metadata": {
  "kernelspec": {
   "display_name": "Python 2",
   "language": "python",
   "name": "python2"
  },
  "language_info": {
   "codemirror_mode": {
    "name": "ipython",
    "version": 2
   },
   "file_extension": ".py",
   "mimetype": "text/x-python",
   "name": "python",
   "nbconvert_exporter": "python",
   "pygments_lexer": "ipython2",
   "version": "2.7.12"
  }
 },
 "nbformat": 4,
 "nbformat_minor": 1
}
